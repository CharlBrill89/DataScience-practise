{
  "nbformat": 4,
  "nbformat_minor": 0,
  "metadata": {
    "colab": {
      "name": "BinaryCalculator.ipynb",
      "provenance": [],
      "authorship_tag": "ABX9TyMBjGAzatK0o4l1+Xt8J911",
      "include_colab_link": true
    },
    "kernelspec": {
      "name": "python3",
      "display_name": "Python 3"
    }
  },
  "cells": [
    {
      "cell_type": "markdown",
      "metadata": {
        "id": "view-in-github",
        "colab_type": "text"
      },
      "source": [
        "<a href=\"https://colab.research.google.com/github/CharlBrill89/DataScience-practise/blob/master/BinaryCalculator.ipynb\" target=\"_parent\"><img src=\"https://colab.research.google.com/assets/colab-badge.svg\" alt=\"Open In Colab\"/></a>"
      ]
    },
    {
      "cell_type": "code",
      "metadata": {
        "id": "ojIP5YMTfAyS",
        "colab_type": "code",
        "colab": {
          "base_uri": "https://localhost:8080/",
          "height": 90
        },
        "outputId": "8851acc1-221a-48fd-8b16-fcb522724981"
      },
      "source": [
        "# Python 3 implementation of above approach \n",
        "  \n",
        "# Function to convert decimal to  \n",
        "# binary number  \n",
        "def bin(n): \n",
        "      \n",
        "    if (n > 1):  \n",
        "        bin(n >> 1) \n",
        "    print(n & 1, end = \"\") \n",
        "  \n",
        "# Driver code  \n",
        "bin(1) \n",
        "print() \n",
        "bin(2) \n",
        "print() \n",
        "bin(3)\n",
        " \n",
        "print() \n",
        "bin(4) "
      ],
      "execution_count": 5,
      "outputs": [
        {
          "output_type": "stream",
          "text": [
            "1\n",
            "10\n",
            "11\n",
            "100"
          ],
          "name": "stdout"
        }
      ]
    }
  ]
}